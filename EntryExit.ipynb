{
 "cells": [
  {
   "cell_type": "code",
   "execution_count": 1,
   "metadata": {
    "collapsed": false
   },
   "outputs": [
    {
     "name": "stdout",
     "output_type": "stream",
     "text": [
      "2.7.10 |Anaconda 2.3.0 (x86_64)| (default, May 28 2015, 17:04:42) \n",
      "[GCC 4.2.1 (Apple Inc. build 5577)]\n",
      "1.9.2\n",
      "0.16.2\n"
     ]
    }
   ],
   "source": [
    "%matplotlib inline\n",
    "import sys\n",
    "print(sys.version)\n",
    "import numpy as np\n",
    "print(np.__version__)\n",
    "import pandas as pd\n",
    "print(pd.__version__)\n",
    "import matplotlib.pyplot as plt\n",
    "\n",
    "pd.set_option('display.mpl_style', 'default')\n",
    "plt.rcParams['figure.figsize'] = (15, 5)"
   ]
  },
  {
   "cell_type": "code",
   "execution_count": 4,
   "metadata": {
    "collapsed": false
   },
   "outputs": [],
   "source": [
    "#Load the EntryExit table file that has been pre-processed: fixed zip codes, re-labeled column names to remove spaces, \n",
    "#deleted 2 redundant columns (documented):\n",
    "EntryExit = pd.read_csv('raw_EntryExit_Filtered.csv', \n",
    "                        parse_dates = ['Start_Date', 'Exit_Date', 'ProjectEnrollmentDate'])"
   ]
  },
  {
   "cell_type": "code",
   "execution_count": 7,
   "metadata": {
    "collapsed": false
   },
   "outputs": [
    {
     "data": {
      "text/plain": [
       "(2068, 12)"
      ]
     },
     "execution_count": 7,
     "metadata": {},
     "output_type": "execute_result"
    }
   ],
   "source": [
    "EntryExit.shape"
   ]
  },
  {
   "cell_type": "code",
   "execution_count": 5,
   "metadata": {
    "collapsed": false
   },
   "outputs": [
    {
     "data": {
      "text/html": [
       "<div>\n",
       "<table border=\"1\" class=\"dataframe\">\n",
       "  <thead>\n",
       "    <tr style=\"text-align: right;\">\n",
       "      <th></th>\n",
       "      <th>Person_ID</th>\n",
       "      <th>ProjectEnrollment_ID</th>\n",
       "      <th>Client_Age_at_Entry</th>\n",
       "      <th>LastPermanentZip</th>\n",
       "      <th>ProjectEnrollmentDate</th>\n",
       "      <th>Destination</th>\n",
       "      <th>Start_Date</th>\n",
       "      <th>Exit_Date</th>\n",
       "      <th>Project_Name</th>\n",
       "      <th>HousingStatus_atProjectStart</th>\n",
       "      <th>LivingSituationBeforeProgram</th>\n",
       "      <th>ProjectStayHousehold_ID</th>\n",
       "    </tr>\n",
       "  </thead>\n",
       "  <tbody>\n",
       "    <tr>\n",
       "      <th>0</th>\n",
       "      <td>173848</td>\n",
       "      <td>446668</td>\n",
       "      <td>48</td>\n",
       "      <td>93955</td>\n",
       "      <td>2015-03-26</td>\n",
       "      <td>NaN</td>\n",
       "      <td>2015-03-26</td>\n",
       "      <td>NaT</td>\n",
       "      <td>MOSBE Franciscan Workers - House of Peace(3207)</td>\n",
       "      <td>Category 1 - Homeless (HUD)</td>\n",
       "      <td>Hospital or other residential non-psychiatric ...</td>\n",
       "      <td>446668</td>\n",
       "    </tr>\n",
       "    <tr>\n",
       "      <th>1</th>\n",
       "      <td>173848</td>\n",
       "      <td>446669</td>\n",
       "      <td>48</td>\n",
       "      <td>93955</td>\n",
       "      <td>2015-03-26</td>\n",
       "      <td>NaN</td>\n",
       "      <td>2015-03-26</td>\n",
       "      <td>NaT</td>\n",
       "      <td>MOSBE Franciscan Workers - House of Peace(3207)</td>\n",
       "      <td>Category 1 - Homeless (HUD)</td>\n",
       "      <td>Hospital or other residential non-psychiatric ...</td>\n",
       "      <td>446669</td>\n",
       "    </tr>\n",
       "    <tr>\n",
       "      <th>2</th>\n",
       "      <td>173960</td>\n",
       "      <td>130924</td>\n",
       "      <td>32</td>\n",
       "      <td>93905</td>\n",
       "      <td>2011-01-27</td>\n",
       "      <td>Rental by client, no ongoing housing subsidy (...</td>\n",
       "      <td>2009-01-27</td>\n",
       "      <td>2011-01-27</td>\n",
       "      <td>MOSBE Pueblo del Mar Family Recovery Community...</td>\n",
       "      <td>Category 1 - Homeless (HUD)</td>\n",
       "      <td>Staying or living in a friend's room, apartmen...</td>\n",
       "      <td>130924</td>\n",
       "    </tr>\n",
       "    <tr>\n",
       "      <th>3</th>\n",
       "      <td>173961</td>\n",
       "      <td>130925</td>\n",
       "      <td>12</td>\n",
       "      <td>NaN</td>\n",
       "      <td>2011-01-27</td>\n",
       "      <td>Rental by client, no ongoing housing subsidy (...</td>\n",
       "      <td>2009-01-27</td>\n",
       "      <td>2011-01-27</td>\n",
       "      <td>MOSBE Pueblo del Mar Family Recovery Community...</td>\n",
       "      <td>Category 1 - Homeless (HUD)</td>\n",
       "      <td>Substance abuse treatment facility or detox ce...</td>\n",
       "      <td>130924</td>\n",
       "    </tr>\n",
       "    <tr>\n",
       "      <th>4</th>\n",
       "      <td>173962</td>\n",
       "      <td>130926</td>\n",
       "      <td>4</td>\n",
       "      <td>NaN</td>\n",
       "      <td>2011-01-27</td>\n",
       "      <td>Rental by client, no ongoing housing subsidy (...</td>\n",
       "      <td>2009-01-27</td>\n",
       "      <td>2011-01-27</td>\n",
       "      <td>MOSBE Pueblo del Mar Family Recovery Community...</td>\n",
       "      <td>Category 1 - Homeless (HUD)</td>\n",
       "      <td>Substance abuse treatment facility or detox ce...</td>\n",
       "      <td>130924</td>\n",
       "    </tr>\n",
       "  </tbody>\n",
       "</table>\n",
       "</div>"
      ],
      "text/plain": [
       "   Person_ID  ProjectEnrollment_ID  Client_Age_at_Entry LastPermanentZip  \\\n",
       "0     173848                446668                   48            93955   \n",
       "1     173848                446669                   48            93955   \n",
       "2     173960                130924                   32            93905   \n",
       "3     173961                130925                   12              NaN   \n",
       "4     173962                130926                    4              NaN   \n",
       "\n",
       "  ProjectEnrollmentDate                                        Destination  \\\n",
       "0            2015-03-26                                                NaN   \n",
       "1            2015-03-26                                                NaN   \n",
       "2            2011-01-27  Rental by client, no ongoing housing subsidy (...   \n",
       "3            2011-01-27  Rental by client, no ongoing housing subsidy (...   \n",
       "4            2011-01-27  Rental by client, no ongoing housing subsidy (...   \n",
       "\n",
       "  Start_Date  Exit_Date                                       Project_Name  \\\n",
       "0 2015-03-26        NaT    MOSBE Franciscan Workers - House of Peace(3207)   \n",
       "1 2015-03-26        NaT    MOSBE Franciscan Workers - House of Peace(3207)   \n",
       "2 2009-01-27 2011-01-27  MOSBE Pueblo del Mar Family Recovery Community...   \n",
       "3 2009-01-27 2011-01-27  MOSBE Pueblo del Mar Family Recovery Community...   \n",
       "4 2009-01-27 2011-01-27  MOSBE Pueblo del Mar Family Recovery Community...   \n",
       "\n",
       "  HousingStatus_atProjectStart  \\\n",
       "0  Category 1 - Homeless (HUD)   \n",
       "1  Category 1 - Homeless (HUD)   \n",
       "2  Category 1 - Homeless (HUD)   \n",
       "3  Category 1 - Homeless (HUD)   \n",
       "4  Category 1 - Homeless (HUD)   \n",
       "\n",
       "                        LivingSituationBeforeProgram  ProjectStayHousehold_ID  \n",
       "0  Hospital or other residential non-psychiatric ...                   446668  \n",
       "1  Hospital or other residential non-psychiatric ...                   446669  \n",
       "2  Staying or living in a friend's room, apartmen...                   130924  \n",
       "3  Substance abuse treatment facility or detox ce...                   130924  \n",
       "4  Substance abuse treatment facility or detox ce...                   130924  "
      ]
     },
     "execution_count": 5,
     "metadata": {},
     "output_type": "execute_result"
    }
   ],
   "source": [
    "EntryExit.head()"
   ]
  },
  {
   "cell_type": "code",
   "execution_count": 6,
   "metadata": {
    "collapsed": false
   },
   "outputs": [
    {
     "data": {
      "text/plain": [
       "Person_ID                                int64\n",
       "ProjectEnrollment_ID                     int64\n",
       "Client_Age_at_Entry                    float64\n",
       "LastPermanentZip                        object\n",
       "ProjectEnrollmentDate           datetime64[ns]\n",
       "Destination                             object\n",
       "Start_Date                      datetime64[ns]\n",
       "Exit_Date                       datetime64[ns]\n",
       "Project_Name                            object\n",
       "HousingStatus_atProjectStart            object\n",
       "LivingSituationBeforeProgram            object\n",
       "ProjectStayHousehold_ID                  int64\n",
       "dtype: object"
      ]
     },
     "execution_count": 6,
     "metadata": {},
     "output_type": "execute_result"
    }
   ],
   "source": [
    "EntryExit.dtypes"
   ]
  },
  {
   "cell_type": "code",
   "execution_count": 12,
   "metadata": {
    "collapsed": false
   },
   "outputs": [
    {
     "name": "stdout",
     "output_type": "stream",
     "text": [
      "1918\n",
      "2068\n",
      "1265\n"
     ]
    }
   ],
   "source": [
    "print len(EntryExit.Person_ID.unique())\n",
    "print len(EntryExit.ProjectEnrollment_ID.unique()) #unique in this dataset\n",
    "print len(EntryExit.ProjectStayHousehold_ID.unique()) #probably redundant"
   ]
  },
  {
   "cell_type": "code",
   "execution_count": 24,
   "metadata": {
    "collapsed": false
   },
   "outputs": [],
   "source": [
    "EntryExit['TotalDaysStay']  = (EntryExit['Exit_Date'] - EntryExit['Start_Date']).map(lambda x: x / np.timedelta64(1,'D'))"
   ]
  },
  {
   "cell_type": "code",
   "execution_count": 55,
   "metadata": {
    "collapsed": false
   },
   "outputs": [
    {
     "name": "stdout",
     "output_type": "stream",
     "text": [
      "327\n"
     ]
    },
    {
     "data": {
      "text/plain": [
       "0    NaN\n",
       "1    NaN\n",
       "2    730\n",
       "3    730\n",
       "4    730\n",
       "5    279\n",
       "6    288\n",
       "7    750\n",
       "8    286\n",
       "9    462\n",
       "Name: TotalDaysStay, dtype: float64"
      ]
     },
     "execution_count": 55,
     "metadata": {},
     "output_type": "execute_result"
    }
   ],
   "source": [
    "print len(EntryExit[EntryExit.TotalDaysStay.isnull()]) #number of cases that haven't yet exited the program\n",
    "EntryExit.TotalDaysStay.head(10)"
   ]
  },
  {
   "cell_type": "code",
   "execution_count": 30,
   "metadata": {
    "collapsed": false
   },
   "outputs": [
    {
     "data": {
      "text/plain": [
       "378.7478460654796"
      ]
     },
     "execution_count": 30,
     "metadata": {},
     "output_type": "execute_result"
    }
   ],
   "source": [
    "EntryExit.TotalDaysStay.mean()"
   ]
  },
  {
   "cell_type": "code",
   "execution_count": 42,
   "metadata": {
    "collapsed": false
   },
   "outputs": [
    {
     "data": {
      "text/plain": [
       "336.0"
      ]
     },
     "execution_count": 42,
     "metadata": {},
     "output_type": "execute_result"
    }
   ],
   "source": [
    "EntryExit.TotalDaysStay.median()"
   ]
  },
  {
   "cell_type": "code",
   "execution_count": 43,
   "metadata": {
    "collapsed": false
   },
   "outputs": [
    {
     "data": {
      "text/plain": [
       "<matplotlib.axes._subplots.AxesSubplot at 0x10b65bdd0>"
      ]
     },
     "execution_count": 43,
     "metadata": {},
     "output_type": "execute_result"
    },
    {
     "data": {
      "image/png": "[encoded data removed]",
      "text/plain": [
       "<matplotlib.figure.Figure at 0x10ba24410>"
      ]
     },
     "metadata": {},
     "output_type": "display_data"
    }
   ],
   "source": [
    "EntryExit.TotalDaysStay.hist(bins = 26)"
   ]
  },
  {
   "cell_type": "code",
   "execution_count": 63,
   "metadata": {
    "collapsed": false
   },
   "outputs": [
    {
     "name": "stdout",
     "output_type": "stream",
     "text": [
      "202\n"
     ]
    },
    {
     "data": {
      "text/plain": [
       "array(['34601', '80215', '89101', '80911', '37221', '33411', '79007',\n",
       "       '32082', '73160', '02364', '78070', '87144', '14621', '60018',\n",
       "       '87103', '80524', '20148', '80134', '06151', '07726', '19572',\n",
       "       '20501', '22152', '58601', '45373', '00939', '60290', '71730',\n",
       "       '30904', '33173', '80011', '85131', '2152LT', '15220', '74401',\n",
       "       '89431', '85037', '78028', '85349', '59901', '48239', '73527-0000',\n",
       "       '02301-8401', '80226', '80207', '89117', '85141', '89104', '30126',\n",
       "       '89119', '76704', '15201'], dtype=object)"
      ]
     },
     "execution_count": 63,
     "metadata": {},
     "output_type": "execute_result"
    }
   ],
   "source": [
    "print len(EntryExit.LastPermanentZip[EntryExit.LastPermanentZip.str.startswith('9') == True].unique()) #potentially CA zip codes\n",
    "EntryExit.LastPermanentZip[EntryExit.LastPermanentZip.str.startswith('9') == False].unique()"
   ]
  },
  {
   "cell_type": "code",
   "execution_count": 64,
   "metadata": {
    "collapsed": false
   },
   "outputs": [
    {
     "data": {
      "text/plain": [
       "array(['94306', '94587', '94551', '94805', '94941', '94501', '94107',\n",
       "       '94062', '94560', '94578', '94590', '94609', '94561', '94086',\n",
       "       '94063', '94025', '94089', '94568', '94806', '94024', '94541',\n",
       "       '94040', '94109', '94301', '94520', '94801', '94539', '94303',\n",
       "       '94607', '94525', '94124', '94061'], dtype=object)"
      ]
     },
     "execution_count": 64,
     "metadata": {},
     "output_type": "execute_result"
    }
   ],
   "source": [
    "EntryExit.LastPermanentZip[EntryExit.LastPermanentZip.str.startswith('94') == True].unique()"
   ]
  },
  {
   "cell_type": "code",
   "execution_count": null,
   "metadata": {
    "collapsed": true
   },
   "outputs": [],
   "source": []
  }
 ],
 "metadata": {
  "kernelspec": {
   "display_name": "Python 2",
   "language": "python",
   "name": "python2"
  },
  "language_info": {
   "codemirror_mode": {
    "name": "ipython",
    "version": 2
   },
   "file_extension": ".py",
   "mimetype": "text/x-python",
   "name": "python",
   "nbconvert_exporter": "python",
   "pygments_lexer": "ipython2",
   "version": "2.7.10"
  }
 },
 "nbformat": 4,
 "nbformat_minor": 0
}
